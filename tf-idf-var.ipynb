{
 "cells": [
  {
   "cell_type": "code",
   "execution_count": 1,
   "metadata": {
    "collapsed": true
   },
   "outputs": [],
   "source": [
    "import cPickle as pickle"
   ]
  },
  {
   "cell_type": "code",
   "execution_count": 2,
   "metadata": {
    "collapsed": true
   },
   "outputs": [],
   "source": [
    "import pandas as pd\n",
    "from collections import defaultdict, Counter"
   ]
  },
  {
   "cell_type": "code",
   "execution_count": 3,
   "metadata": {
    "collapsed": true
   },
   "outputs": [],
   "source": [
    "import numpy as np"
   ]
  },
  {
   "cell_type": "code",
   "execution_count": 4,
   "metadata": {
    "collapsed": true
   },
   "outputs": [],
   "source": [
    "from tqdm import tqdm"
   ]
  },
  {
   "cell_type": "code",
   "execution_count": 5,
   "metadata": {
    "collapsed": true
   },
   "outputs": [],
   "source": [
    "data=pickle.load(open(\"results.pickle\", 'rb'))"
   ]
  },
  {
   "cell_type": "code",
   "execution_count": 6,
   "metadata": {
    "collapsed": false
   },
   "outputs": [
    {
     "data": {
      "text/html": [
       "<div>\n",
       "<table border=\"1\" class=\"dataframe\">\n",
       "  <thead>\n",
       "    <tr style=\"text-align: right;\">\n",
       "      <th></th>\n",
       "      <th>corpus_id</th>\n",
       "      <th>docid</th>\n",
       "      <th>ngram_id</th>\n",
       "      <th>count</th>\n",
       "      <th>doc_length</th>\n",
       "      <th>tfidf</th>\n",
       "      <th>tf</th>\n",
       "      <th>tfidf_var</th>\n",
       "    </tr>\n",
       "  </thead>\n",
       "  <tbody>\n",
       "    <tr>\n",
       "      <th>0</th>\n",
       "      <td>0</td>\n",
       "      <td>137827</td>\n",
       "      <td>23737</td>\n",
       "      <td>107</td>\n",
       "      <td>11872</td>\n",
       "      <td>0.050491</td>\n",
       "      <td>0.009013</td>\n",
       "      <td>0.039271</td>\n",
       "    </tr>\n",
       "    <tr>\n",
       "      <th>1</th>\n",
       "      <td>0</td>\n",
       "      <td>137827</td>\n",
       "      <td>62</td>\n",
       "      <td>89</td>\n",
       "      <td>11872</td>\n",
       "      <td>0.014588</td>\n",
       "      <td>0.007497</td>\n",
       "      <td>0.012235</td>\n",
       "    </tr>\n",
       "    <tr>\n",
       "      <th>2</th>\n",
       "      <td>0</td>\n",
       "      <td>137827</td>\n",
       "      <td>488</td>\n",
       "      <td>67</td>\n",
       "      <td>11872</td>\n",
       "      <td>0.016907</td>\n",
       "      <td>0.005644</td>\n",
       "      <td>0.014718</td>\n",
       "    </tr>\n",
       "    <tr>\n",
       "      <th>3</th>\n",
       "      <td>0</td>\n",
       "      <td>137827</td>\n",
       "      <td>22152</td>\n",
       "      <td>53</td>\n",
       "      <td>11872</td>\n",
       "      <td>0.021899</td>\n",
       "      <td>0.004464</td>\n",
       "      <td>0.017032</td>\n",
       "    </tr>\n",
       "    <tr>\n",
       "      <th>4</th>\n",
       "      <td>0</td>\n",
       "      <td>137827</td>\n",
       "      <td>137671</td>\n",
       "      <td>39</td>\n",
       "      <td>11872</td>\n",
       "      <td>0.018403</td>\n",
       "      <td>0.003285</td>\n",
       "      <td>0.014314</td>\n",
       "    </tr>\n",
       "  </tbody>\n",
       "</table>\n",
       "</div>"
      ],
      "text/plain": [
       "   corpus_id   docid  ngram_id  count  doc_length     tfidf        tf  \\\n",
       "0          0  137827     23737    107       11872  0.050491  0.009013   \n",
       "1          0  137827        62     89       11872  0.014588  0.007497   \n",
       "2          0  137827       488     67       11872  0.016907  0.005644   \n",
       "3          0  137827     22152     53       11872  0.021899  0.004464   \n",
       "4          0  137827    137671     39       11872  0.018403  0.003285   \n",
       "\n",
       "   tfidf_var  \n",
       "0   0.039271  \n",
       "1   0.012235  \n",
       "2   0.014718  \n",
       "3   0.017032  \n",
       "4   0.014314  "
      ]
     },
     "execution_count": 6,
     "metadata": {},
     "output_type": "execute_result"
    }
   ],
   "source": [
    "data.head(5)"
   ]
  },
  {
   "cell_type": "code",
   "execution_count": 7,
   "metadata": {
    "collapsed": true
   },
   "outputs": [],
   "source": [
    "ngram_list=data.ngram_id.drop_duplicates().tolist()\n",
    "corpus_list=data.corpus_id.drop_duplicates().tolist()"
   ]
  },
  {
   "cell_type": "code",
   "execution_count": 8,
   "metadata": {
    "collapsed": false
   },
   "outputs": [],
   "source": [
    "corpus_docid_dict=defaultdict(list)\n",
    "corpus_num_doc=defaultdict(int)\n",
    "\n",
    "for corpus in corpus_list:\n",
    "    corpus_docid_dict[corpus]=data[data['corpus_id']==corpus]['docid'].drop_duplicates().tolist()\n",
    "    corpus_num_doc[corpus]=len(corpus_docid_dict[corpus])"
   ]
  },
  {
   "cell_type": "code",
   "execution_count": 9,
   "metadata": {
    "collapsed": true
   },
   "outputs": [],
   "source": [
    "corpus_ngram_dict=defaultdict(list)\n",
    "\n",
    "for corpus in corpus_list:\n",
    "    corpus_ngram_dict[corpus]=data[data['corpus_id']==corpus]['ngram_id'].drop_duplicates().tolist()"
   ]
  },
  {
   "cell_type": "code",
   "execution_count": 16,
   "metadata": {
    "collapsed": false
   },
   "outputs": [],
   "source": [
    "corpus_docid_ngram_dict=defaultdict()\n",
    "for corpus in corpus_list:\n",
    "    corpus_docid_ngram_dict[corpus]=defaultdict(list)\n",
    "    for docid in corpus_docid_dict[corpus]:\n",
    "        corpus_docid_ngram_dict[corpus][docid]=data[(data['corpus_id']==corpus)&(data['docid']==docid)]['ngram_id'].drop_duplicates().tolist()\n",
    "        "
   ]
  },
  {
   "cell_type": "code",
   "execution_count": 25,
   "metadata": {
    "collapsed": false,
    "scrolled": true
   },
   "outputs": [
    {
     "name": "stderr",
     "output_type": "stream",
     "text": [
      "100%|█████████████████████████████████| 158202/158202 [13:01<00:00, 202.52it/s]\n"
     ]
    }
   ],
   "source": [
    "#среднее tf по ВСЕМ документам в корпусе для каждой нграммы\n",
    "corpus_ngram_avg_tf=defaultdict(list)\n",
    "for ngram in tqdm(ngram_list):\n",
    "    for corpus in corpus_list:\n",
    "        corpus_ngram_avg_tf[ngram].append(sum(data[(data['corpus_id']==corpus)&(data['ngram_id']==ngram)]\\\n",
    "                                            ['tf'].tolist())/corpus_num_doc[corpus]) "
   ]
  },
  {
   "cell_type": "code",
   "execution_count": 27,
   "metadata": {
    "collapsed": false
   },
   "outputs": [
    {
     "name": "stderr",
     "output_type": "stream",
     "text": [
      "100%|███████████████████████████████| 158202/158202 [00:03<00:00, 43629.89it/s]\n"
     ]
    }
   ],
   "source": [
    "#считаем дисперсию между классами (нормированную по сумме квадратов tf)\n",
    "corpus_ngram_intervar_tf=defaultdict(float)\n",
    "for ngram in tqdm(ngram_list):\n",
    "    corpus_ngram_intervar_tf[ngram]=(np.var(corpus_ngram_avg_tf[ngram]))/(\n",
    "        reduce(lambda x,y: x+y, map(lambda x: x*x, corpus_ngram_avg_tf[ngram])))\n",
    "    "
   ]
  },
  {
   "cell_type": "code",
   "execution_count": 39,
   "metadata": {
    "collapsed": false
   },
   "outputs": [
    {
     "name": "stderr",
     "output_type": "stream",
     "text": [
      "100%|████████████████████████████████████████| 271/271 [06:32<00:00,  1.45s/it]\n",
      "100%|████████████████████████████████████████| 114/114 [02:41<00:00,  1.41s/it]\n",
      "100%|████████████████████████████████████████| 152/152 [02:15<00:00,  2.28it/s]\n"
     ]
    }
   ],
   "source": [
    "#записываем tf для всех документов внутри корпуса\n",
    "\n",
    "\n",
    "ngram_doc_tf=defaultdict()\n",
    "for corpus in corpus_list:\n",
    "    ngram_doc_tf[corpus]=defaultdict()\n",
    "    for docid in tqdm(corpus_docid_dict[corpus]):\n",
    "        \n",
    "        \n",
    "        for ngram in corpus_docid_ngram_dict[corpus][docid]:\n",
    "            ngram_doc_tf[corpus][ngram]=defaultdict(float)\n",
    "            \n",
    "            \n",
    "            ngram_doc_tf[corpus][ngram][docid]=data[(data['corpus_id']==corpus) &\n",
    "                                                               ((data['docid']==docid) &\n",
    "                                                               (data['ngram_id']==ngram))]['tf'].tolist()[0]\n",
    "\n",
    "            \n",
    "                \n",
    "                \n",
    "            \n",
    "            "
   ]
  },
  {
   "cell_type": "code",
   "execution_count": 41,
   "metadata": {
    "collapsed": false
   },
   "outputs": [
    {
     "name": "stderr",
     "output_type": "stream",
     "text": [
      "100%|████████████████████████████████████████| 271/271 [00:22<00:00, 12.09it/s]\n",
      "100%|████████████████████████████████████████| 114/114 [00:04<00:00, 25.03it/s]\n",
      "100%|███████████████████████████████████████| 152/152 [00:01<00:00, 147.43it/s]\n"
     ]
    }
   ],
   "source": [
    "for corpus in corpus_list:\n",
    "    for docid in tqdm(corpus_docid_dict[corpus]):\n",
    "        for ngram in corpus_ngram_dict[corpus]:\n",
    "            a=ngram_doc_tf[corpus][ngram][docid]"
   ]
  },
  {
   "cell_type": "code",
   "execution_count": 43,
   "metadata": {
    "collapsed": false
   },
   "outputs": [
    {
     "data": {
      "text/plain": [
       "2.9863792675530343e-07"
      ]
     },
     "execution_count": 43,
     "metadata": {},
     "output_type": "execute_result"
    }
   ],
   "source": [
    "np.var(ngram_doc_tf[0][23737].values(), dtype=float)"
   ]
  },
  {
   "cell_type": "code",
   "execution_count": 42,
   "metadata": {
    "collapsed": false
   },
   "outputs": [
    {
     "data": {
      "text/plain": [
       "defaultdict(float,\n",
       "            {217: 0.0,\n",
       "             693: 0.0,\n",
       "             791: 0.0,\n",
       "             1272: 0.0,\n",
       "             1336: 0.0,\n",
       "             2100: 0.0,\n",
       "             2419: 0.0,\n",
       "             2689: 0.0,\n",
       "             3336: 0.0,\n",
       "             4790: 0.0,\n",
       "             5310: 0.0,\n",
       "             5372: 0.0,\n",
       "             5777: 0.0,\n",
       "             6022: 0.0,\n",
       "             6228: 0.0,\n",
       "             6578: 0.0,\n",
       "             6769: 0.0,\n",
       "             6840: 0.0,\n",
       "             6918: 0.0,\n",
       "             7182: 0.0,\n",
       "             9123: 0.0,\n",
       "             9144: 0.0,\n",
       "             9498: 0.0,\n",
       "             9549: 0.0,\n",
       "             10071: 0.0,\n",
       "             10511: 0.0,\n",
       "             10631: 0.0,\n",
       "             10744: 0.0,\n",
       "             11341: 0.0,\n",
       "             11352: 0.0,\n",
       "             11450: 0.0,\n",
       "             11567: 0.0,\n",
       "             12095: 0.0,\n",
       "             12247: 0.0,\n",
       "             12265: 0.0,\n",
       "             12908: 0.0,\n",
       "             13508: 0.0,\n",
       "             13534: 0.0,\n",
       "             13605: 0.0,\n",
       "             14446: 0.0,\n",
       "             14683: 0.0,\n",
       "             14877: 0.0,\n",
       "             15041: 0.0,\n",
       "             15074: 0.0,\n",
       "             15171: 0.0,\n",
       "             16274: 0.0,\n",
       "             16383: 0.0,\n",
       "             16502: 0.0,\n",
       "             16917: 0.0,\n",
       "             17360: 0.0,\n",
       "             17451: 0.0,\n",
       "             17615: 0.0,\n",
       "             18625: 0.0,\n",
       "             18663: 0.0,\n",
       "             18669: 0.0,\n",
       "             18937: 0.0,\n",
       "             19125: 0.0,\n",
       "             23465: 0.0,\n",
       "             23985: 0.0,\n",
       "             24585: 0.0,\n",
       "             24633: 0.0,\n",
       "             24645: 0.0,\n",
       "             24975: 0.0,\n",
       "             24991: 0.0,\n",
       "             25775: 0.0,\n",
       "             26352: 0.0,\n",
       "             26645: 0.0,\n",
       "             27237: 0.0,\n",
       "             28274: 0.0,\n",
       "             28747: 0.0,\n",
       "             29033: 0.0,\n",
       "             29804: 0.0,\n",
       "             30372: 0.0,\n",
       "             30946: 0.0,\n",
       "             31013: 0.0,\n",
       "             31590: 0.0,\n",
       "             34213: 0.0,\n",
       "             34664: 0.0,\n",
       "             35226: 0.0,\n",
       "             35773: 0.0,\n",
       "             36700: 0.0,\n",
       "             38477: 0.0,\n",
       "             38586: 0.0,\n",
       "             38588: 0.0,\n",
       "             38902: 0.0,\n",
       "             40063: 0.0,\n",
       "             40459: 0.0,\n",
       "             40611: 0.0,\n",
       "             40863: 0.0,\n",
       "             40956: 0.0,\n",
       "             41343: 0.0,\n",
       "             41390: 0.0,\n",
       "             43808: 0.0,\n",
       "             43814: 0.0,\n",
       "             44742: 0.0,\n",
       "             46768: 0.0,\n",
       "             46876: 0.0,\n",
       "             47112: 0.0,\n",
       "             47507: 0.0,\n",
       "             48451: 0.0,\n",
       "             48616: 0.0,\n",
       "             51170: 0.0,\n",
       "             51623: 0.0,\n",
       "             52383: 0.0,\n",
       "             52903: 0.0,\n",
       "             53191: 0.0,\n",
       "             53650: 0.0,\n",
       "             54048: 0.0,\n",
       "             54666: 0.0,\n",
       "             54760: 0.0,\n",
       "             55022: 0.0,\n",
       "             55629: 0.0,\n",
       "             56401: 0.0,\n",
       "             56563: 0.0,\n",
       "             56756: 0.0,\n",
       "             56764: 0.0,\n",
       "             57074: 0.0,\n",
       "             57557: 0.0,\n",
       "             59130: 0.0,\n",
       "             60338: 0.0,\n",
       "             60579: 0.0,\n",
       "             60587: 0.125,\n",
       "             60877: 0.0,\n",
       "             61686: 0.0,\n",
       "             62068: 0.0,\n",
       "             63167: 0.0,\n",
       "             63260: 0.0,\n",
       "             64270: 0.0,\n",
       "             65032: 0.0,\n",
       "             66004: 0.0,\n",
       "             66904: 0.0,\n",
       "             67117: 0.0,\n",
       "             67458: 0.0,\n",
       "             68307: 0.0,\n",
       "             69042: 0.0,\n",
       "             69186: 0.0,\n",
       "             69834: 0.0,\n",
       "             71416: 0.0,\n",
       "             71620: 0.0,\n",
       "             71895: 0.0,\n",
       "             73263: 0.0,\n",
       "             74708: 0.0,\n",
       "             74709: 0.0,\n",
       "             74976: 0.0,\n",
       "             75117: 0.0,\n",
       "             75837: 0.0,\n",
       "             75854: 0.0,\n",
       "             76365: 0.0,\n",
       "             76710: 0.0,\n",
       "             77388: 0.0,\n",
       "             77564: 0.0,\n",
       "             77901: 0.0,\n",
       "             78927: 0.0,\n",
       "             78994: 0.0,\n",
       "             80062: 0.0,\n",
       "             80207: 0.0,\n",
       "             80484: 0.0,\n",
       "             80691: 0.0,\n",
       "             80778: 0.0,\n",
       "             82425: 0.0,\n",
       "             82456: 0.0,\n",
       "             83525: 0.0,\n",
       "             85371: 0.0,\n",
       "             86698: 0.0,\n",
       "             87487: 0.0,\n",
       "             88453: 0.0,\n",
       "             88538: 0.0,\n",
       "             88864: 0.0,\n",
       "             90385: 0.0,\n",
       "             90403: 0.0,\n",
       "             91613: 0.0,\n",
       "             92222: 0.0,\n",
       "             94087: 0.0,\n",
       "             94113: 0.0,\n",
       "             94602: 0.0,\n",
       "             94720: 0.0,\n",
       "             95009: 0.0,\n",
       "             95167: 0.0,\n",
       "             95506: 0.0,\n",
       "             95805: 0.0,\n",
       "             95907: 0.0,\n",
       "             96654: 0.0,\n",
       "             96882: 0.0,\n",
       "             97025: 0.0,\n",
       "             97034: 0.0,\n",
       "             97065: 0.0,\n",
       "             97113: 0.0,\n",
       "             97369: 0.0,\n",
       "             97587: 0.0,\n",
       "             97720: 0.0,\n",
       "             98103: 0.0,\n",
       "             98556: 0.0,\n",
       "             98659: 0.0,\n",
       "             99962: 0.0,\n",
       "             100430: 0.0,\n",
       "             101413: 0.0,\n",
       "             101460: 0.0,\n",
       "             102122: 0.0,\n",
       "             102490: 0.0,\n",
       "             102906: 0.0,\n",
       "             102975: 0.0,\n",
       "             103281: 0.0,\n",
       "             103310: 0.0,\n",
       "             103633: 0.0,\n",
       "             103751: 0.0,\n",
       "             104151: 0.0,\n",
       "             104211: 0.0,\n",
       "             104367: 0.0,\n",
       "             105331: 0.0,\n",
       "             105432: 0.0,\n",
       "             105557: 0.0,\n",
       "             106721: 0.0,\n",
       "             107595: 0.0,\n",
       "             108142: 0.0,\n",
       "             108473: 0.0,\n",
       "             109061: 0.0,\n",
       "             110185: 0.0,\n",
       "             110356: 0.0,\n",
       "             110479: 0.0,\n",
       "             110565: 0.0,\n",
       "             111005: 0.0,\n",
       "             111447: 0.0,\n",
       "             111869: 0.0,\n",
       "             113628: 0.0,\n",
       "             113852: 0.0,\n",
       "             114222: 0.0,\n",
       "             114622: 0.0,\n",
       "             115083: 0.0,\n",
       "             115453: 0.0,\n",
       "             115684: 0.0,\n",
       "             115955: 0.0,\n",
       "             116229: 0.0,\n",
       "             116347: 0.0,\n",
       "             116448: 0.0,\n",
       "             118309: 0.0,\n",
       "             119679: 0.0,\n",
       "             119809: 0.0,\n",
       "             120092: 0.0,\n",
       "             120621: 0.0,\n",
       "             120942: 0.0,\n",
       "             121946: 0.0,\n",
       "             122344: 0.0,\n",
       "             122462: 0.0,\n",
       "             123684: 0.0,\n",
       "             123950: 0.0,\n",
       "             123971: 0.0,\n",
       "             125343: 0.0,\n",
       "             125515: 0.0,\n",
       "             125605: 0.0,\n",
       "             127045: 0.0,\n",
       "             127207: 0.0,\n",
       "             127689: 0.0,\n",
       "             127732: 0.0,\n",
       "             127853: 0.0,\n",
       "             129575: 0.0,\n",
       "             129710: 0.0,\n",
       "             131082: 0.0,\n",
       "             131097: 0.0,\n",
       "             131698: 0.0,\n",
       "             134287: 0.0,\n",
       "             134484: 0.0,\n",
       "             134894: 0.0,\n",
       "             135275: 0.0,\n",
       "             135359: 0.0,\n",
       "             136656: 0.0,\n",
       "             137519: 0.0,\n",
       "             137827: 0.0,\n",
       "             137847: 0.0,\n",
       "             138882: 0.0,\n",
       "             139277: 0.0,\n",
       "             139464: 0.0})"
      ]
     },
     "execution_count": 42,
     "metadata": {},
     "output_type": "execute_result"
    }
   ],
   "source": [
    "ngram_doc_tf[0][62]"
   ]
  },
  {
   "cell_type": "code",
   "execution_count": 45,
   "metadata": {
    "collapsed": false
   },
   "outputs": [
    {
     "name": "stderr",
     "output_type": "stream",
     "text": [
      "100%|███████████████████████████████| 105822/105822 [00:05<00:00, 17678.25it/s]\n",
      "100%|█████████████████████████████████| 50051/50051 [00:01<00:00, 27127.91it/s]\n",
      "100%|███████████████████████████████████| 8689/8689 [00:00<00:00, 24825.72it/s]\n"
     ]
    }
   ],
   "source": [
    "corpus_ngram_intravar_tf=defaultdict()\n",
    "\n",
    "for corpus in corpus_list:\n",
    "    corpus_ngram_intravar_tf[corpus]=defaultdict(int)\n",
    "    for ngram in tqdm(corpus_ngram_dict[corpus]):\n",
    "        corpus_ngram_intravar_tf[corpus][ngram]=(np.var(ngram_doc_tf[corpus][ngram].values()))\n",
    "    \n",
    "    "
   ]
  },
  {
   "cell_type": "code",
   "execution_count": 46,
   "metadata": {
    "collapsed": true
   },
   "outputs": [],
   "source": [
    "indexes=[]\n",
    "tfidf_fullvar=[]\n",
    "for index, row in data.iterrows():\n",
    "    indexes.append(index)\n",
    "    tfidf_fullvar.append(row['tfidf']*corpus_ngram_intravar_tf[row['corpus_id']][row['ngram_id']]\\\n",
    "                        *(1-corpus_ngram_intervar_tf[row['ngram_id']]))"
   ]
  },
  {
   "cell_type": "code",
   "execution_count": 47,
   "metadata": {
    "collapsed": true
   },
   "outputs": [],
   "source": [
    "data=pd.concat([data, pd.Series(data=tfidf_fullvar,index=indexes,name='tfidf_fullvar')],axis=1)"
   ]
  },
  {
   "cell_type": "code",
   "execution_count": 48,
   "metadata": {
    "collapsed": false
   },
   "outputs": [
    {
     "data": {
      "text/html": [
       "<div>\n",
       "<table border=\"1\" class=\"dataframe\">\n",
       "  <thead>\n",
       "    <tr style=\"text-align: right;\">\n",
       "      <th></th>\n",
       "      <th>corpus_id</th>\n",
       "      <th>docid</th>\n",
       "      <th>ngram_id</th>\n",
       "      <th>count</th>\n",
       "      <th>doc_length</th>\n",
       "      <th>tfidf</th>\n",
       "      <th>tf</th>\n",
       "      <th>tfidf_var</th>\n",
       "      <th>tfidf_fullvar</th>\n",
       "    </tr>\n",
       "  </thead>\n",
       "  <tbody>\n",
       "    <tr>\n",
       "      <th>0</th>\n",
       "      <td>0</td>\n",
       "      <td>137827</td>\n",
       "      <td>23737</td>\n",
       "      <td>107</td>\n",
       "      <td>11872</td>\n",
       "      <td>0.050491</td>\n",
       "      <td>0.009013</td>\n",
       "      <td>0.039271</td>\n",
       "      <td>1.172770e-08</td>\n",
       "    </tr>\n",
       "    <tr>\n",
       "      <th>1</th>\n",
       "      <td>0</td>\n",
       "      <td>137827</td>\n",
       "      <td>62</td>\n",
       "      <td>89</td>\n",
       "      <td>11872</td>\n",
       "      <td>0.014588</td>\n",
       "      <td>0.007497</td>\n",
       "      <td>0.012235</td>\n",
       "      <td>7.028444e-07</td>\n",
       "    </tr>\n",
       "    <tr>\n",
       "      <th>2</th>\n",
       "      <td>0</td>\n",
       "      <td>137827</td>\n",
       "      <td>488</td>\n",
       "      <td>67</td>\n",
       "      <td>11872</td>\n",
       "      <td>0.016907</td>\n",
       "      <td>0.005644</td>\n",
       "      <td>0.014718</td>\n",
       "      <td>9.472815e-10</td>\n",
       "    </tr>\n",
       "    <tr>\n",
       "      <th>3</th>\n",
       "      <td>0</td>\n",
       "      <td>137827</td>\n",
       "      <td>22152</td>\n",
       "      <td>53</td>\n",
       "      <td>11872</td>\n",
       "      <td>0.021899</td>\n",
       "      <td>0.004464</td>\n",
       "      <td>0.017032</td>\n",
       "      <td>2.374237e-11</td>\n",
       "    </tr>\n",
       "    <tr>\n",
       "      <th>4</th>\n",
       "      <td>0</td>\n",
       "      <td>137827</td>\n",
       "      <td>137671</td>\n",
       "      <td>39</td>\n",
       "      <td>11872</td>\n",
       "      <td>0.018403</td>\n",
       "      <td>0.003285</td>\n",
       "      <td>0.014314</td>\n",
       "      <td>5.678782e-10</td>\n",
       "    </tr>\n",
       "  </tbody>\n",
       "</table>\n",
       "</div>"
      ],
      "text/plain": [
       "   corpus_id   docid  ngram_id  count  doc_length     tfidf        tf  \\\n",
       "0          0  137827     23737    107       11872  0.050491  0.009013   \n",
       "1          0  137827        62     89       11872  0.014588  0.007497   \n",
       "2          0  137827       488     67       11872  0.016907  0.005644   \n",
       "3          0  137827     22152     53       11872  0.021899  0.004464   \n",
       "4          0  137827    137671     39       11872  0.018403  0.003285   \n",
       "\n",
       "   tfidf_var  tfidf_fullvar  \n",
       "0   0.039271   1.172770e-08  \n",
       "1   0.012235   7.028444e-07  \n",
       "2   0.014718   9.472815e-10  \n",
       "3   0.017032   2.374237e-11  \n",
       "4   0.014314   5.678782e-10  "
      ]
     },
     "execution_count": 48,
     "metadata": {},
     "output_type": "execute_result"
    }
   ],
   "source": [
    "data.head(5)"
   ]
  },
  {
   "cell_type": "code",
   "execution_count": 49,
   "metadata": {
    "collapsed": true
   },
   "outputs": [],
   "source": [
    "pickle.dump(data, open(\"results_.pickle\", 'wb'))"
   ]
  },
  {
   "cell_type": "code",
   "execution_count": null,
   "metadata": {
    "collapsed": true
   },
   "outputs": [],
   "source": []
  }
 ],
 "metadata": {
  "anaconda-cloud": {},
  "kernelspec": {
   "display_name": "Python [Root]",
   "language": "python",
   "name": "Python [Root]"
  },
  "language_info": {
   "codemirror_mode": {
    "name": "ipython",
    "version": 2
   },
   "file_extension": ".py",
   "mimetype": "text/x-python",
   "name": "python",
   "nbconvert_exporter": "python",
   "pygments_lexer": "ipython2",
   "version": "2.7.12"
  }
 },
 "nbformat": 4,
 "nbformat_minor": 0
}
