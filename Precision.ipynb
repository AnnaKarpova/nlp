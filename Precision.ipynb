{
 "cells": [
  {
   "cell_type": "code",
   "execution_count": 54,
   "metadata": {
    "collapsed": true
   },
   "outputs": [],
   "source": [
    "import cPickle as pickle\n",
    "import pandas as pd\n",
    "from collections import defaultdict, Counter\n",
    "import numpy as np\n",
    "from tqdm import tqdm"
   ]
  },
  {
   "cell_type": "code",
   "execution_count": 55,
   "metadata": {
    "collapsed": true
   },
   "outputs": [],
   "source": [
    "import warnings\n",
    "warnings.filterwarnings('ignore')"
   ]
  },
  {
   "cell_type": "code",
   "execution_count": 56,
   "metadata": {
    "collapsed": true
   },
   "outputs": [],
   "source": [
    "docid_data=pickle.load(open('document_results_allv_norm.pickle', 'rb'))"
   ]
  },
  {
   "cell_type": "code",
   "execution_count": 57,
   "metadata": {
    "collapsed": false
   },
   "outputs": [],
   "source": [
    "data=pickle.load(open(\"results_.pickle\", 'rb'))"
   ]
  },
  {
   "cell_type": "code",
   "execution_count": 58,
   "metadata": {
    "collapsed": false
   },
   "outputs": [
    {
     "data": {
      "text/html": [
       "<div>\n",
       "<table border=\"1\" class=\"dataframe\">\n",
       "  <thead>\n",
       "    <tr style=\"text-align: right;\">\n",
       "      <th></th>\n",
       "      <th>corpus_id</th>\n",
       "      <th>docid</th>\n",
       "      <th>ngram_id</th>\n",
       "      <th>count</th>\n",
       "      <th>doc_length</th>\n",
       "      <th>tfidf</th>\n",
       "      <th>tf</th>\n",
       "      <th>tfidf_var</th>\n",
       "      <th>tfidf_fullvar</th>\n",
       "      <th>tfidf_HHI</th>\n",
       "    </tr>\n",
       "  </thead>\n",
       "  <tbody>\n",
       "    <tr>\n",
       "      <th>0</th>\n",
       "      <td>0</td>\n",
       "      <td>137827</td>\n",
       "      <td>23737</td>\n",
       "      <td>107</td>\n",
       "      <td>11872</td>\n",
       "      <td>0.050491</td>\n",
       "      <td>0.009013</td>\n",
       "      <td>0.039271</td>\n",
       "      <td>1.172770e-08</td>\n",
       "      <td>0.050491</td>\n",
       "    </tr>\n",
       "    <tr>\n",
       "      <th>1</th>\n",
       "      <td>0</td>\n",
       "      <td>137827</td>\n",
       "      <td>62</td>\n",
       "      <td>89</td>\n",
       "      <td>11872</td>\n",
       "      <td>0.014588</td>\n",
       "      <td>0.007497</td>\n",
       "      <td>0.012235</td>\n",
       "      <td>7.028444e-07</td>\n",
       "      <td>0.000000</td>\n",
       "    </tr>\n",
       "    <tr>\n",
       "      <th>2</th>\n",
       "      <td>0</td>\n",
       "      <td>137827</td>\n",
       "      <td>488</td>\n",
       "      <td>67</td>\n",
       "      <td>11872</td>\n",
       "      <td>0.016907</td>\n",
       "      <td>0.005644</td>\n",
       "      <td>0.014718</td>\n",
       "      <td>9.472815e-10</td>\n",
       "      <td>0.000000</td>\n",
       "    </tr>\n",
       "    <tr>\n",
       "      <th>3</th>\n",
       "      <td>0</td>\n",
       "      <td>137827</td>\n",
       "      <td>22152</td>\n",
       "      <td>53</td>\n",
       "      <td>11872</td>\n",
       "      <td>0.021899</td>\n",
       "      <td>0.004464</td>\n",
       "      <td>0.017032</td>\n",
       "      <td>2.374237e-11</td>\n",
       "      <td>0.021899</td>\n",
       "    </tr>\n",
       "    <tr>\n",
       "      <th>4</th>\n",
       "      <td>0</td>\n",
       "      <td>137827</td>\n",
       "      <td>137671</td>\n",
       "      <td>39</td>\n",
       "      <td>11872</td>\n",
       "      <td>0.018403</td>\n",
       "      <td>0.003285</td>\n",
       "      <td>0.014314</td>\n",
       "      <td>5.678782e-10</td>\n",
       "      <td>0.018403</td>\n",
       "    </tr>\n",
       "  </tbody>\n",
       "</table>\n",
       "</div>"
      ],
      "text/plain": [
       "   corpus_id   docid  ngram_id  count  doc_length     tfidf        tf  \\\n",
       "0          0  137827     23737    107       11872  0.050491  0.009013   \n",
       "1          0  137827        62     89       11872  0.014588  0.007497   \n",
       "2          0  137827       488     67       11872  0.016907  0.005644   \n",
       "3          0  137827     22152     53       11872  0.021899  0.004464   \n",
       "4          0  137827    137671     39       11872  0.018403  0.003285   \n",
       "\n",
       "   tfidf_var  tfidf_fullvar  tfidf_HHI  \n",
       "0   0.039271   1.172770e-08   0.050491  \n",
       "1   0.012235   7.028444e-07   0.000000  \n",
       "2   0.014718   9.472815e-10   0.000000  \n",
       "3   0.017032   2.374237e-11   0.021899  \n",
       "4   0.014314   5.678782e-10   0.018403  "
      ]
     },
     "execution_count": 58,
     "metadata": {},
     "output_type": "execute_result"
    }
   ],
   "source": [
    "data.head(5)"
   ]
  },
  {
   "cell_type": "code",
   "execution_count": 59,
   "metadata": {
    "collapsed": true
   },
   "outputs": [],
   "source": [
    "methods=data.columns[5:]\n",
    "method_list=methods.tolist()"
   ]
  },
  {
   "cell_type": "code",
   "execution_count": 60,
   "metadata": {
    "collapsed": false
   },
   "outputs": [
    {
     "data": {
      "text/plain": [
       "['tfidf', 'tf', 'tfidf_var', 'tfidf_fullvar', 'tfidf_HHI']"
      ]
     },
     "execution_count": 60,
     "metadata": {},
     "output_type": "execute_result"
    }
   ],
   "source": [
    "method_list"
   ]
  },
  {
   "cell_type": "code",
   "execution_count": 61,
   "metadata": {
    "collapsed": false
   },
   "outputs": [
    {
     "name": "stderr",
     "output_type": "stream",
     "text": [
      "537it [00:00, 35799.75it/s]\n"
     ]
    }
   ],
   "source": [
    "docid_corpus_calc=defaultdict()\n",
    "for docid in tqdm(docid_data.iterkeys()):\n",
    "    docid_corpus_calc[docid]=defaultdict(list)\n",
    "    for method in method_list:\n",
    "        count=[0,0,0]\n",
    "        count_weight=docid_data[docid][method]\n",
    "        index=count_weight.index(max(count_weight))\n",
    "        count[index]=1\n",
    "        docid_corpus_calc[docid][method]=count"
   ]
  },
  {
   "cell_type": "code",
   "execution_count": 62,
   "metadata": {
    "collapsed": false,
    "scrolled": true
   },
   "outputs": [
    {
     "data": {
      "text/plain": [
       "defaultdict(list,\n",
       "            {'tf': [1, 0, 0],\n",
       "             'tfidf': [1, 0, 0],\n",
       "             'tfidf_HHI': [1, 0, 0],\n",
       "             'tfidf_fullvar': [1, 0, 0],\n",
       "             'tfidf_var': [1, 0, 0]})"
      ]
     },
     "execution_count": 62,
     "metadata": {},
     "output_type": "execute_result"
    }
   ],
   "source": [
    "docid_corpus_calc[137827]"
   ]
  },
  {
   "cell_type": "code",
   "execution_count": 63,
   "metadata": {
    "collapsed": true
   },
   "outputs": [],
   "source": [
    "docid_corpus_fact=defaultdict()\n",
    "df=pd.concat([data['docid'], data['corpus_id']],axis=1).drop_duplicates()\n",
    "for _, row in df.iterrows():\n",
    "    docid_corpus_fact[row['docid']]=[0,0,0]\n",
    "    docid_corpus_fact[row['docid']][row['corpus_id']]=1"
   ]
  },
  {
   "cell_type": "code",
   "execution_count": 64,
   "metadata": {
    "collapsed": true
   },
   "outputs": [],
   "source": [
    "from sklearn.metrics.pairwise import cosine_similarity"
   ]
  },
  {
   "cell_type": "code",
   "execution_count": 67,
   "metadata": {
    "collapsed": false
   },
   "outputs": [],
   "source": [
    "true_positive=defaultdict(list)\n",
    "\n",
    "for method in method_list:\n",
    "    true_positive[method]=[0,0,0]\n",
    "    for docid in docid_corpus_fact.iterkeys():\n",
    "        if cosine_similarity(docid_corpus_fact[docid], docid_corpus_calc[docid][method])==1:\n",
    "            count=docid_corpus_fact[docid]\n",
    "            index=count.index(max(count))\n",
    "            true_positive[method][index]+=1\n",
    "        \n",
    "        "
   ]
  },
  {
   "cell_type": "code",
   "execution_count": 68,
   "metadata": {
    "collapsed": false
   },
   "outputs": [
    {
     "data": {
      "text/plain": [
       "defaultdict(list,\n",
       "            {'tf': [258, 109, 136],\n",
       "             'tfidf': [258, 107, 116],\n",
       "             'tfidf_HHI': [241, 111, 145],\n",
       "             'tfidf_fullvar': [259, 110, 128],\n",
       "             'tfidf_var': [258, 107, 116]})"
      ]
     },
     "execution_count": 68,
     "metadata": {},
     "output_type": "execute_result"
    }
   ],
   "source": [
    "true_positive"
   ]
  },
  {
   "cell_type": "code",
   "execution_count": 69,
   "metadata": {
    "collapsed": false
   },
   "outputs": [],
   "source": [
    "all_positive=[0,0,0]\n",
    "for docid in docid_corpus_fact.iterkeys():\n",
    "    for index in range(3):\n",
    "        all_positive[index]+=docid_corpus_fact[docid][index]"
   ]
  },
  {
   "cell_type": "code",
   "execution_count": 70,
   "metadata": {
    "collapsed": true
   },
   "outputs": [],
   "source": [
    "all_selected=defaultdict(list)\n",
    "for method in method_list:\n",
    "    all_selected[method]=[0,0,0]\n",
    "    for docid in docid_corpus_calc.iterkeys():\n",
    "        for index in range(3):\n",
    "            all_selected[method][index]+=docid_corpus_calc[docid][method][index]\n",
    "    "
   ]
  },
  {
   "cell_type": "code",
   "execution_count": 71,
   "metadata": {
    "collapsed": false
   },
   "outputs": [
    {
     "data": {
      "text/plain": [
       "[275, 120, 142]"
      ]
     },
     "execution_count": 71,
     "metadata": {},
     "output_type": "execute_result"
    }
   ],
   "source": [
    "all_selected['tf']"
   ]
  },
  {
   "cell_type": "code",
   "execution_count": 72,
   "metadata": {
    "collapsed": false
   },
   "outputs": [
    {
     "data": {
      "text/plain": [
       "[271, 114, 152]"
      ]
     },
     "execution_count": 72,
     "metadata": {},
     "output_type": "execute_result"
    }
   ],
   "source": [
    "all_positive"
   ]
  },
  {
   "cell_type": "code",
   "execution_count": 73,
   "metadata": {
    "collapsed": false
   },
   "outputs": [],
   "source": [
    "methods_results=defaultdict()\n",
    "for method in method_list:\n",
    "    methods_results[method]=defaultdict(list)\n",
    "    methods_results[method]['precision']=[0.0,0.0,0.0]\n",
    "    methods_results[method]['recall']=[0.0,0.0,0.0]\n",
    "    for index in range(3):\n",
    "        methods_results[method]['precision'][index]+=float(true_positive[method][index])/all_selected[method][index]\n",
    "        methods_results[method]['recall'][index]+=float(true_positive[method][index])/all_positive[index]\n",
    "    \n",
    "    "
   ]
  },
  {
   "cell_type": "code",
   "execution_count": 74,
   "metadata": {
    "collapsed": false
   },
   "outputs": [],
   "source": [
    "methods_results_macroavg=defaultdict()\n",
    "for method in method_list:\n",
    "    methods_results_macroavg[method]=defaultdict(float)\n",
    "    methods_results_macroavg[method]['precision']=np.mean(methods_results[method]['precision'])\n",
    "    methods_results_macroavg[method]['recall']=np.mean(methods_results[method]['recall'])\n",
    "    methods_results_macroavg[method]['fscore']=2*(methods_results_macroavg[method]['precision']*\n",
    "                                                    methods_results_macroavg[method]['recall'])/ (\n",
    "                                                    methods_results_macroavg[method]['precision']+\n",
    "                                                    methods_results_macroavg[method]['recall'])"
   ]
  },
  {
   "cell_type": "code",
   "execution_count": 75,
   "metadata": {
    "collapsed": false
   },
   "outputs": [],
   "source": [
    "methods_results_microavg=defaultdict(float)\n",
    "for method in method_list:\n",
    "    methods_results_microavg[method]=defaultdict(float)\n",
    "    methods_results_microavg[method]['precision']=float(sum(true_positive[method]))/sum(all_selected[method])\n",
    "    methods_results_microavg[method]['recall']=float(sum(true_positive[method]))/sum(all_positive)\n",
    "    methods_results_microavg[method]['fscore']=2*(methods_results_microavg[method]['precision']*\n",
    "                                                    methods_results_microavg[method]['recall'])/ (\n",
    "                                                    methods_results_microavg[method]['precision']+\n",
    "                                                    methods_results_microavg[method]['recall'])"
   ]
  },
  {
   "cell_type": "code",
   "execution_count": 76,
   "metadata": {
    "collapsed": false
   },
   "outputs": [
    {
     "data": {
      "text/plain": [
       "defaultdict(None,\n",
       "            {'tf': defaultdict(float,\n",
       "                         {'fscore': 0.93452800271060832,\n",
       "                          'precision': 0.93475387679613042,\n",
       "                          'recall': 0.93430223775921972}),\n",
       "             'tfidf': defaultdict(float,\n",
       "                         {'fscore': 0.89028203353123803,\n",
       "                          'precision': 0.89604303781133054,\n",
       "                          'recall': 0.88459463542003836}),\n",
       "             'tfidf_HHI': defaultdict(float,\n",
       "                         {'fscore': 0.92637093938797221,\n",
       "                          'precision': 0.91409904221600247,\n",
       "                          'recall': 0.93897682397876603}),\n",
       "             'tfidf_fullvar': defaultdict(float,\n",
       "                         {'fscore': 0.92286914836838885,\n",
       "                          'precision': 0.92483426307704741,\n",
       "                          'recall': 0.92091236701840706}),\n",
       "             'tfidf_var': defaultdict(float,\n",
       "                         {'fscore': 0.89028203353123803,\n",
       "                          'precision': 0.89604303781133054,\n",
       "                          'recall': 0.88459463542003836})})"
      ]
     },
     "execution_count": 76,
     "metadata": {},
     "output_type": "execute_result"
    }
   ],
   "source": [
    "methods_results_macroavg\n"
   ]
  },
  {
   "cell_type": "code",
   "execution_count": 77,
   "metadata": {
    "collapsed": false
   },
   "outputs": [
    {
     "data": {
      "text/plain": [
       "defaultdict(None,\n",
       "            {'tf': defaultdict(float,\n",
       "                         {'fscore': 0.93452800271060832,\n",
       "                          'precision': 0.93475387679613042,\n",
       "                          'recall': 0.93430223775921972}),\n",
       "             'tfidf': defaultdict(float,\n",
       "                         {'fscore': 0.89028203353123803,\n",
       "                          'precision': 0.89604303781133054,\n",
       "                          'recall': 0.88459463542003836}),\n",
       "             'tfidf_HHI': defaultdict(float,\n",
       "                         {'fscore': 0.92637093938797221,\n",
       "                          'precision': 0.91409904221600247,\n",
       "                          'recall': 0.93897682397876603}),\n",
       "             'tfidf_fullvar': defaultdict(float,\n",
       "                         {'fscore': 0.92286914836838885,\n",
       "                          'precision': 0.92483426307704741,\n",
       "                          'recall': 0.92091236701840706}),\n",
       "             'tfidf_var': defaultdict(float,\n",
       "                         {'fscore': 0.89028203353123803,\n",
       "                          'precision': 0.89604303781133054,\n",
       "                          'recall': 0.88459463542003836})})"
      ]
     },
     "execution_count": 77,
     "metadata": {},
     "output_type": "execute_result"
    }
   ],
   "source": [
    "methods_results_macroavg"
   ]
  },
  {
   "cell_type": "code",
   "execution_count": 81,
   "metadata": {
    "collapsed": true
   },
   "outputs": [],
   "source": [
    "pickle.dump(methods_results_macroavg, open('methods_results_macroavg_norm.pickle', 'wb'))\n",
    "pickle.dump(methods_results_microavg, open('methods_results_microavg_norm.pickle', 'wb'))"
   ]
  },
  {
   "cell_type": "code",
   "execution_count": 80,
   "metadata": {
    "collapsed": false
   },
   "outputs": [
    {
     "data": {
      "text/plain": [
       "defaultdict(float,\n",
       "            {'tf': defaultdict(float,\n",
       "                         {'fscore': 0.9366852886405957,\n",
       "                          'precision': 0.9366852886405959,\n",
       "                          'recall': 0.9366852886405959}),\n",
       "             'tfidf': defaultdict(float,\n",
       "                         {'fscore': 0.8957169459962756,\n",
       "                          'precision': 0.8957169459962756,\n",
       "                          'recall': 0.8957169459962756}),\n",
       "             'tfidf_HHI': defaultdict(float,\n",
       "                         {'fscore': 0.925512104283054,\n",
       "                          'precision': 0.925512104283054,\n",
       "                          'recall': 0.925512104283054}),\n",
       "             'tfidf_fullvar': defaultdict(float,\n",
       "                         {'fscore': 0.925512104283054,\n",
       "                          'precision': 0.925512104283054,\n",
       "                          'recall': 0.925512104283054}),\n",
       "             'tfidf_var': defaultdict(float,\n",
       "                         {'fscore': 0.8957169459962756,\n",
       "                          'precision': 0.8957169459962756,\n",
       "                          'recall': 0.8957169459962756})})"
      ]
     },
     "execution_count": 80,
     "metadata": {},
     "output_type": "execute_result"
    }
   ],
   "source": [
    "methods_results_microavg"
   ]
  },
  {
   "cell_type": "code",
   "execution_count": null,
   "metadata": {
    "collapsed": true
   },
   "outputs": [],
   "source": []
  }
 ],
 "metadata": {
  "kernelspec": {
   "display_name": "Python 2",
   "language": "python",
   "name": "python2"
  },
  "language_info": {
   "codemirror_mode": {
    "name": "ipython",
    "version": 2
   },
   "file_extension": ".py",
   "mimetype": "text/x-python",
   "name": "python",
   "nbconvert_exporter": "python",
   "pygments_lexer": "ipython2",
   "version": "2.7.11"
  }
 },
 "nbformat": 4,
 "nbformat_minor": 0
}
