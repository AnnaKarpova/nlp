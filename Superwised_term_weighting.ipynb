{
 "cells": [
  {
   "cell_type": "code",
   "execution_count": 1,
   "metadata": {
    "collapsed": true
   },
   "outputs": [],
   "source": [
    "import cPickle as pickle\n",
    "import pandas as pd\n",
    "from collections import defaultdict, Counter\n",
    "import numpy as np\n",
    "from tqdm import tqdm"
   ]
  },
  {
   "cell_type": "code",
   "execution_count": 2,
   "metadata": {
    "collapsed": true
   },
   "outputs": [],
   "source": [
    "data=pickle.load(open(\"results_.pickle\", 'rb'))"
   ]
  },
  {
   "cell_type": "code",
   "execution_count": 3,
   "metadata": {
    "collapsed": false
   },
   "outputs": [
    {
     "data": {
      "text/html": [
       "<div>\n",
       "<table border=\"1\" class=\"dataframe\">\n",
       "  <thead>\n",
       "    <tr style=\"text-align: right;\">\n",
       "      <th></th>\n",
       "      <th>corpus_id</th>\n",
       "      <th>docid</th>\n",
       "      <th>ngram_id</th>\n",
       "      <th>count</th>\n",
       "      <th>doc_length</th>\n",
       "      <th>tfidf</th>\n",
       "      <th>tf</th>\n",
       "      <th>tfidf_var</th>\n",
       "      <th>tfidf_fullvar</th>\n",
       "      <th>tfidf_HHI</th>\n",
       "    </tr>\n",
       "  </thead>\n",
       "  <tbody>\n",
       "    <tr>\n",
       "      <th>0</th>\n",
       "      <td>0</td>\n",
       "      <td>137827</td>\n",
       "      <td>23737</td>\n",
       "      <td>107</td>\n",
       "      <td>11872</td>\n",
       "      <td>0.050491</td>\n",
       "      <td>0.009013</td>\n",
       "      <td>0.039271</td>\n",
       "      <td>1.172770e-08</td>\n",
       "      <td>0.050491</td>\n",
       "    </tr>\n",
       "    <tr>\n",
       "      <th>1</th>\n",
       "      <td>0</td>\n",
       "      <td>137827</td>\n",
       "      <td>62</td>\n",
       "      <td>89</td>\n",
       "      <td>11872</td>\n",
       "      <td>0.014588</td>\n",
       "      <td>0.007497</td>\n",
       "      <td>0.012235</td>\n",
       "      <td>7.028444e-07</td>\n",
       "      <td>0.000000</td>\n",
       "    </tr>\n",
       "    <tr>\n",
       "      <th>2</th>\n",
       "      <td>0</td>\n",
       "      <td>137827</td>\n",
       "      <td>488</td>\n",
       "      <td>67</td>\n",
       "      <td>11872</td>\n",
       "      <td>0.016907</td>\n",
       "      <td>0.005644</td>\n",
       "      <td>0.014718</td>\n",
       "      <td>9.472815e-10</td>\n",
       "      <td>0.000000</td>\n",
       "    </tr>\n",
       "    <tr>\n",
       "      <th>3</th>\n",
       "      <td>0</td>\n",
       "      <td>137827</td>\n",
       "      <td>22152</td>\n",
       "      <td>53</td>\n",
       "      <td>11872</td>\n",
       "      <td>0.021899</td>\n",
       "      <td>0.004464</td>\n",
       "      <td>0.017032</td>\n",
       "      <td>2.374237e-11</td>\n",
       "      <td>0.021899</td>\n",
       "    </tr>\n",
       "    <tr>\n",
       "      <th>4</th>\n",
       "      <td>0</td>\n",
       "      <td>137827</td>\n",
       "      <td>137671</td>\n",
       "      <td>39</td>\n",
       "      <td>11872</td>\n",
       "      <td>0.018403</td>\n",
       "      <td>0.003285</td>\n",
       "      <td>0.014314</td>\n",
       "      <td>5.678782e-10</td>\n",
       "      <td>0.018403</td>\n",
       "    </tr>\n",
       "  </tbody>\n",
       "</table>\n",
       "</div>"
      ],
      "text/plain": [
       "   corpus_id   docid  ngram_id  count  doc_length     tfidf        tf  \\\n",
       "0          0  137827     23737    107       11872  0.050491  0.009013   \n",
       "1          0  137827        62     89       11872  0.014588  0.007497   \n",
       "2          0  137827       488     67       11872  0.016907  0.005644   \n",
       "3          0  137827     22152     53       11872  0.021899  0.004464   \n",
       "4          0  137827    137671     39       11872  0.018403  0.003285   \n",
       "\n",
       "   tfidf_var  tfidf_fullvar  tfidf_HHI  \n",
       "0   0.039271   1.172770e-08   0.050491  \n",
       "1   0.012235   7.028444e-07   0.000000  \n",
       "2   0.014718   9.472815e-10   0.000000  \n",
       "3   0.017032   2.374237e-11   0.021899  \n",
       "4   0.014314   5.678782e-10   0.018403  "
      ]
     },
     "execution_count": 3,
     "metadata": {},
     "output_type": "execute_result"
    }
   ],
   "source": [
    "data.head(5)"
   ]
  },
  {
   "cell_type": "code",
   "execution_count": null,
   "metadata": {
    "collapsed": true
   },
   "outputs": [],
   "source": [
    "Аня солнышко :) :****"
   ]
  },
  {
   "cell_type": "code",
   "execution_count": 89,
   "metadata": {
    "collapsed": true
   },
   "outputs": [],
   "source": [
    "probability[corpus]=defaultdict(float)\n",
    "for corpus in corpus_list:\n",
    "    probability[corpus]=float(sum(data[data['corpus_id']==corpus]['count'].tolist()))/ sum(data['count'].tolist())"
   ]
  },
  {
   "cell_type": "code",
   "execution_count": 91,
   "metadata": {
    "collapsed": false
   },
   "outputs": [],
   "source": [
    "ngram_prob_all=sum(data['tf'].tolist())"
   ]
  },
  {
   "cell_type": "code",
   "execution_count": 78,
   "metadata": {
    "collapsed": false
   },
   "outputs": [],
   "source": [
    "def ngram_corpus_prob(ngram, corpus):\n",
    "    global probability\n",
    "    prob= sum(data[(data['corpus_id']==corpus) & (data['ngram_id']==ngram)]['tf'].tolist())*probability[corpus]\n",
    "    return prob\n"
   ]
  },
  {
   "cell_type": "code",
   "execution_count": 34,
   "metadata": {
    "collapsed": true
   },
   "outputs": [],
   "source": [
    "def ngram_prob(ngram):\n",
    "    prob= sum(data[data['ngram_id']==ngram]['tf'].tolist());\n",
    "    return prob"
   ]
  },
  {
   "cell_type": "code",
   "execution_count": 84,
   "metadata": {
    "collapsed": false
   },
   "outputs": [],
   "source": [
    "def calc_chi_sq(ngram,corpus):\n",
    "    \n",
    "        \n",
    "    all_but_one=corpus_list[:]\n",
    "    all_but_one.remove(corpus)\n",
    "    \n",
    "\n",
    "    chi_squared=pow((ngram_corpus_prob(ngram, corpus)*(1- probability[corpus])-\n",
    "                 (sum(map(lambda x: ngram_corpus_prob(ngram, x), all_but_one))*probability[corpus])),2)/(\n",
    "                  ngram_prob(ngram)*(ngram_prob_all-ngram_prob(ngram))*probability[corpus]*(1-probability[corpus]))\n",
    "\n",
    "    return chi_squared"
   ]
  },
  {
   "cell_type": "code",
   "execution_count": 94,
   "metadata": {
    "collapsed": false
   },
   "outputs": [
    {
     "name": "stderr",
     "output_type": "stream",
     "text": [
      "262676it [35:21, 123.80it/s]\n"
     ]
    }
   ],
   "source": [
    "indexes=[]\n",
    "chi_sq=[]\n",
    "for index, row in tqdm(data.iterrows()):\n",
    "    indexes.append(index)\n",
    "    \n",
    "    all_but_one=corpus_list[:]\n",
    "    all_but_one.remove(corpus)\n",
    "    \n",
    "    ngram=row['ngram_id']\n",
    "    corpus=row['corpus_id']\n",
    "    \n",
    "    chi_sq.append(row['tf']*(pow((ngram_corpus_prob(ngram, corpus)*(1- probability[corpus])-\n",
    "                 (sum(map(lambda x: ngram_corpus_prob(ngram, x), all_but_one))*probability[corpus])),2)/(\n",
    "                  ngram_prob(ngram)*(ngram_prob_all-ngram_prob(ngram))*probability[corpus]*(1-probability[corpus]))))\n"
   ]
  },
  {
   "cell_type": "code",
   "execution_count": null,
   "metadata": {
    "collapsed": true
   },
   "outputs": [],
   "source": [
    "data=pd.concat([data, pd.Series(data=chi_sq, index=indexes, name='TF_chi_squared')],axis=1)"
   ]
  },
  {
   "cell_type": "code",
   "execution_count": null,
   "metadata": {
    "collapsed": true
   },
   "outputs": [],
   "source": [
    "data.head(5)"
   ]
  },
  {
   "cell_type": "code",
   "execution_count": 53,
   "metadata": {
    "collapsed": false
   },
   "outputs": [
    {
     "data": {
      "text/plain": [
       "0.0053922832653087449"
      ]
     },
     "execution_count": 53,
     "metadata": {},
     "output_type": "execute_result"
    }
   ],
   "source": [
    "sum(map(lambda x: ngram_corpus_prob(23737, x), range(1)))"
   ]
  },
  {
   "cell_type": "code",
   "execution_count": 54,
   "metadata": {
    "collapsed": false
   },
   "outputs": [
    {
     "ename": "NameError",
     "evalue": "name 'all_but_one' is not defined",
     "output_type": "error",
     "traceback": [
      "\u001b[1;31m---------------------------------------------------------------------------\u001b[0m",
      "\u001b[1;31mNameError\u001b[0m                                 Traceback (most recent call last)",
      "\u001b[1;32m<ipython-input-54-de21e5555997>\u001b[0m in \u001b[0;36m<module>\u001b[1;34m()\u001b[0m\n\u001b[1;32m----> 1\u001b[1;33m \u001b[0mall_but_one\u001b[0m\u001b[1;33m\u001b[0m\u001b[0m\n\u001b[0m",
      "\u001b[1;31mNameError\u001b[0m: name 'all_but_one' is not defined"
     ]
    }
   ],
   "source": [
    "all_but_one"
   ]
  },
  {
   "cell_type": "code",
   "execution_count": 58,
   "metadata": {
    "collapsed": true
   },
   "outputs": [],
   "source": [
    "all_but_one=corpus_list.remove(0)\n",
    "all_but_one"
   ]
  },
  {
   "cell_type": "code",
   "execution_count": 60,
   "metadata": {
    "collapsed": false
   },
   "outputs": [],
   "source": [
    "corpus_list=range(3)"
   ]
  },
  {
   "cell_type": "code",
   "execution_count": 61,
   "metadata": {
    "collapsed": false
   },
   "outputs": [
    {
     "data": {
      "text/plain": [
       "[0, 1, 2]"
      ]
     },
     "execution_count": 61,
     "metadata": {},
     "output_type": "execute_result"
    }
   ],
   "source": [
    "corpus_list"
   ]
  },
  {
   "cell_type": "code",
   "execution_count": null,
   "metadata": {
    "collapsed": true
   },
   "outputs": [],
   "source": []
  }
 ],
 "metadata": {
  "anaconda-cloud": {},
  "kernelspec": {
   "display_name": "Python [Root]",
   "language": "python",
   "name": "Python [Root]"
  },
  "language_info": {
   "codemirror_mode": {
    "name": "ipython",
    "version": 2
   },
   "file_extension": ".py",
   "mimetype": "text/x-python",
   "name": "python",
   "nbconvert_exporter": "python",
   "pygments_lexer": "ipython2",
   "version": "2.7.12"
  }
 },
 "nbformat": 4,
 "nbformat_minor": 0
}
