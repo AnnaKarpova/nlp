{
 "cells": [
  {
   "cell_type": "code",
   "execution_count": 1,
   "metadata": {
    "collapsed": true
   },
   "outputs": [],
   "source": [
    "import cPickle as pickle\n",
    "import pandas as pd\n",
    "from collections import defaultdict, Counter\n",
    "import numpy as np\n",
    "from tqdm import tqdm"
   ]
  },
  {
   "cell_type": "code",
   "execution_count": 17,
   "metadata": {
    "collapsed": true
   },
   "outputs": [],
   "source": [
    "data=pickle.load(open(\"results_.pickle\", 'rb'))"
   ]
  },
  {
   "cell_type": "code",
   "execution_count": 18,
   "metadata": {
    "collapsed": false
   },
   "outputs": [
    {
     "data": {
      "text/html": [
       "<div>\n",
       "<table border=\"1\" class=\"dataframe\">\n",
       "  <thead>\n",
       "    <tr style=\"text-align: right;\">\n",
       "      <th></th>\n",
       "      <th>corpus_id</th>\n",
       "      <th>docid</th>\n",
       "      <th>ngram_id</th>\n",
       "      <th>count</th>\n",
       "      <th>doc_length</th>\n",
       "      <th>tfidf</th>\n",
       "      <th>tf</th>\n",
       "      <th>tfidf_var</th>\n",
       "      <th>tfidf_fullvar</th>\n",
       "    </tr>\n",
       "  </thead>\n",
       "  <tbody>\n",
       "    <tr>\n",
       "      <th>0</th>\n",
       "      <td>0</td>\n",
       "      <td>137827</td>\n",
       "      <td>23737</td>\n",
       "      <td>107</td>\n",
       "      <td>11872</td>\n",
       "      <td>0.050491</td>\n",
       "      <td>0.009013</td>\n",
       "      <td>0.039271</td>\n",
       "      <td>1.172770e-08</td>\n",
       "    </tr>\n",
       "    <tr>\n",
       "      <th>1</th>\n",
       "      <td>0</td>\n",
       "      <td>137827</td>\n",
       "      <td>62</td>\n",
       "      <td>89</td>\n",
       "      <td>11872</td>\n",
       "      <td>0.014588</td>\n",
       "      <td>0.007497</td>\n",
       "      <td>0.012235</td>\n",
       "      <td>7.028444e-07</td>\n",
       "    </tr>\n",
       "    <tr>\n",
       "      <th>2</th>\n",
       "      <td>0</td>\n",
       "      <td>137827</td>\n",
       "      <td>488</td>\n",
       "      <td>67</td>\n",
       "      <td>11872</td>\n",
       "      <td>0.016907</td>\n",
       "      <td>0.005644</td>\n",
       "      <td>0.014718</td>\n",
       "      <td>9.472815e-10</td>\n",
       "    </tr>\n",
       "    <tr>\n",
       "      <th>3</th>\n",
       "      <td>0</td>\n",
       "      <td>137827</td>\n",
       "      <td>22152</td>\n",
       "      <td>53</td>\n",
       "      <td>11872</td>\n",
       "      <td>0.021899</td>\n",
       "      <td>0.004464</td>\n",
       "      <td>0.017032</td>\n",
       "      <td>2.374237e-11</td>\n",
       "    </tr>\n",
       "    <tr>\n",
       "      <th>4</th>\n",
       "      <td>0</td>\n",
       "      <td>137827</td>\n",
       "      <td>137671</td>\n",
       "      <td>39</td>\n",
       "      <td>11872</td>\n",
       "      <td>0.018403</td>\n",
       "      <td>0.003285</td>\n",
       "      <td>0.014314</td>\n",
       "      <td>5.678782e-10</td>\n",
       "    </tr>\n",
       "  </tbody>\n",
       "</table>\n",
       "</div>"
      ],
      "text/plain": [
       "   corpus_id   docid  ngram_id  count  doc_length     tfidf        tf  \\\n",
       "0          0  137827     23737    107       11872  0.050491  0.009013   \n",
       "1          0  137827        62     89       11872  0.014588  0.007497   \n",
       "2          0  137827       488     67       11872  0.016907  0.005644   \n",
       "3          0  137827     22152     53       11872  0.021899  0.004464   \n",
       "4          0  137827    137671     39       11872  0.018403  0.003285   \n",
       "\n",
       "   tfidf_var  tfidf_fullvar  \n",
       "0   0.039271   1.172770e-08  \n",
       "1   0.012235   7.028444e-07  \n",
       "2   0.014718   9.472815e-10  \n",
       "3   0.017032   2.374237e-11  \n",
       "4   0.014314   5.678782e-10  "
      ]
     },
     "execution_count": 18,
     "metadata": {},
     "output_type": "execute_result"
    }
   ],
   "source": [
    "data.head(5)"
   ]
  },
  {
   "cell_type": "code",
   "execution_count": 4,
   "metadata": {
    "collapsed": true
   },
   "outputs": [],
   "source": [
    "corpus_list=range(3)"
   ]
  },
  {
   "cell_type": "code",
   "execution_count": 5,
   "metadata": {
    "collapsed": true
   },
   "outputs": [],
   "source": [
    "corpus_docid_dict=defaultdict(list)\n",
    "corpus_num_doc=defaultdict(int)\n",
    "for corpus in corpus_list:\n",
    "    corpus_docid_dict[corpus]=data[data['corpus_id']==corpus]['docid'].drop_duplicates().tolist()\n",
    "    corpus_num_doc[corpus]=len(corpus_docid_dict[corpus])\n",
    "    \n",
    "corpus_ngram_dict=defaultdict(list)\n",
    "for corpus in corpus_list:\n",
    "    corpus_ngram_dict[corpus]=data[data['corpus_id']==corpus]['ngram_id'].drop_duplicates().tolist()\n",
    "    \n",
    "corpus_docid_ngram_dict=defaultdict()\n",
    "for corpus in corpus_list:\n",
    "    corpus_docid_ngram_dict[corpus]=defaultdict(list)\n",
    "    for docid in corpus_docid_dict[corpus]:\n",
    "        corpus_docid_ngram_dict[corpus][docid]=data[(data['corpus_id']==corpus)&(data['docid']==docid)]['ngram_id'].drop_duplicates().tolist()\n",
    "        "
   ]
  },
  {
   "cell_type": "code",
   "execution_count": 6,
   "metadata": {
    "collapsed": true
   },
   "outputs": [],
   "source": [
    "ngram_list=data['ngram_id'].drop_duplicates().tolist()"
   ]
  },
  {
   "cell_type": "code",
   "execution_count": 13,
   "metadata": {
    "collapsed": false
   },
   "outputs": [
    {
     "name": "stderr",
     "output_type": "stream",
     "text": [
      "100%|█████████████████████████████████| 105822/105822 [02:43<00:00, 647.08it/s]\n",
      "100%|███████████████████████████████████| 50051/50051 [01:17<00:00, 649.16it/s]\n",
      "100%|█████████████████████████████████████| 8689/8689 [00:13<00:00, 645.02it/s]\n"
     ]
    }
   ],
   "source": [
    "HHI_intra=defaultdict()\n",
    "for corpus in corpus_list:\n",
    "    HHI_intra[corpus]=defaultdict(float)\n",
    "    for ngram in tqdm(corpus_ngram_dict[corpus]):\n",
    "         HHI_intra[corpus][ngram]=reduce(lambda x,y: x*y, \n",
    "                                         map(lambda x: 100*x*100*x, \n",
    "                                                               data[(data['corpus_id']==corpus)&\n",
    "                                                                    (data['ngram_id']==ngram)]['tf'].tolist()))/10000"
   ]
  },
  {
   "cell_type": "code",
   "execution_count": 14,
   "metadata": {
    "collapsed": false
   },
   "outputs": [
    {
     "name": "stderr",
     "output_type": "stream",
     "text": [
      "100%|█████████████████████████████████| 105822/105822 [02:43<00:00, 648.29it/s]\n",
      "100%|███████████████████████████████████| 50051/50051 [01:17<00:00, 647.85it/s]\n",
      "100%|█████████████████████████████████████| 8689/8689 [00:13<00:00, 647.03it/s]\n"
     ]
    }
   ],
   "source": [
    "sum_tf_corpus_ngram=defaultdict()\n",
    "for corpus in corpus_list:\n",
    "    for ngram in tqdm(corpus_ngram_dict[corpus]):\n",
    "        sum_tf_corpus_ngram[ngram]=defaultdict(float)\n",
    "        sum_tf_corpus_ngram[ngram][corpus]=sum(data[(data['corpus_id']==corpus)&(data['ngram_id']==ngram)]['tf'].tolist())"
   ]
  },
  {
   "cell_type": "code",
   "execution_count": 15,
   "metadata": {
    "collapsed": true
   },
   "outputs": [],
   "source": [
    "HHI_inter=defaultdict()\n",
    "for corpus in corpus_list:\n",
    "    HHI_inter[corpus]=defaultdict(float)\n",
    "    for ngram in corpus_ngram_dict[corpus]:\n",
    "        HHI_inter[corpus][ngram]= pow(sum_tf_corpus_ngram[ngram][corpus]*100/sum(sum_tf_corpus_ngram[ngram].values()),2)/10000"
   ]
  },
  {
   "cell_type": "code",
   "execution_count": 20,
   "metadata": {
    "collapsed": false
   },
   "outputs": [],
   "source": [
    "indexes=[]\n",
    "tfidf_HHI=[]\n",
    "for index,row in data.iterrows():\n",
    "    indexes.append(index)\n",
    "    tfidf_HHI.append(row['tfidf']*HHI_inter[row['corpus_id']][row['ngram_id']]*(1-HHI_intra[row['corpus_id']][row['ngram_id']]))\n",
    "\n",
    "data=pd.concat([data, pd.Series(data=tfidf_HHI, index=indexes, name='tfidf_HHI')],axis=1)\n",
    "\n",
    "    \n",
    "\n",
    "    "
   ]
  },
  {
   "cell_type": "code",
   "execution_count": 21,
   "metadata": {
    "collapsed": false
   },
   "outputs": [
    {
     "data": {
      "text/html": [
       "<div>\n",
       "<table border=\"1\" class=\"dataframe\">\n",
       "  <thead>\n",
       "    <tr style=\"text-align: right;\">\n",
       "      <th></th>\n",
       "      <th>corpus_id</th>\n",
       "      <th>docid</th>\n",
       "      <th>ngram_id</th>\n",
       "      <th>count</th>\n",
       "      <th>doc_length</th>\n",
       "      <th>tfidf</th>\n",
       "      <th>tf</th>\n",
       "      <th>tfidf_var</th>\n",
       "      <th>tfidf_fullvar</th>\n",
       "      <th>tfidf_HHI</th>\n",
       "    </tr>\n",
       "  </thead>\n",
       "  <tbody>\n",
       "    <tr>\n",
       "      <th>0</th>\n",
       "      <td>0</td>\n",
       "      <td>137827</td>\n",
       "      <td>23737</td>\n",
       "      <td>107</td>\n",
       "      <td>11872</td>\n",
       "      <td>0.050491</td>\n",
       "      <td>0.009013</td>\n",
       "      <td>0.039271</td>\n",
       "      <td>1.172770e-08</td>\n",
       "      <td>0.050491</td>\n",
       "    </tr>\n",
       "    <tr>\n",
       "      <th>1</th>\n",
       "      <td>0</td>\n",
       "      <td>137827</td>\n",
       "      <td>62</td>\n",
       "      <td>89</td>\n",
       "      <td>11872</td>\n",
       "      <td>0.014588</td>\n",
       "      <td>0.007497</td>\n",
       "      <td>0.012235</td>\n",
       "      <td>7.028444e-07</td>\n",
       "      <td>0.000000</td>\n",
       "    </tr>\n",
       "    <tr>\n",
       "      <th>2</th>\n",
       "      <td>0</td>\n",
       "      <td>137827</td>\n",
       "      <td>488</td>\n",
       "      <td>67</td>\n",
       "      <td>11872</td>\n",
       "      <td>0.016907</td>\n",
       "      <td>0.005644</td>\n",
       "      <td>0.014718</td>\n",
       "      <td>9.472815e-10</td>\n",
       "      <td>0.000000</td>\n",
       "    </tr>\n",
       "    <tr>\n",
       "      <th>3</th>\n",
       "      <td>0</td>\n",
       "      <td>137827</td>\n",
       "      <td>22152</td>\n",
       "      <td>53</td>\n",
       "      <td>11872</td>\n",
       "      <td>0.021899</td>\n",
       "      <td>0.004464</td>\n",
       "      <td>0.017032</td>\n",
       "      <td>2.374237e-11</td>\n",
       "      <td>0.021899</td>\n",
       "    </tr>\n",
       "    <tr>\n",
       "      <th>4</th>\n",
       "      <td>0</td>\n",
       "      <td>137827</td>\n",
       "      <td>137671</td>\n",
       "      <td>39</td>\n",
       "      <td>11872</td>\n",
       "      <td>0.018403</td>\n",
       "      <td>0.003285</td>\n",
       "      <td>0.014314</td>\n",
       "      <td>5.678782e-10</td>\n",
       "      <td>0.018403</td>\n",
       "    </tr>\n",
       "  </tbody>\n",
       "</table>\n",
       "</div>"
      ],
      "text/plain": [
       "   corpus_id   docid  ngram_id  count  doc_length     tfidf        tf  \\\n",
       "0          0  137827     23737    107       11872  0.050491  0.009013   \n",
       "1          0  137827        62     89       11872  0.014588  0.007497   \n",
       "2          0  137827       488     67       11872  0.016907  0.005644   \n",
       "3          0  137827     22152     53       11872  0.021899  0.004464   \n",
       "4          0  137827    137671     39       11872  0.018403  0.003285   \n",
       "\n",
       "   tfidf_var  tfidf_fullvar  tfidf_HHI  \n",
       "0   0.039271   1.172770e-08   0.050491  \n",
       "1   0.012235   7.028444e-07   0.000000  \n",
       "2   0.014718   9.472815e-10   0.000000  \n",
       "3   0.017032   2.374237e-11   0.021899  \n",
       "4   0.014314   5.678782e-10   0.018403  "
      ]
     },
     "execution_count": 21,
     "metadata": {},
     "output_type": "execute_result"
    }
   ],
   "source": [
    "data.head(5)   "
   ]
  },
  {
   "cell_type": "code",
   "execution_count": 22,
   "metadata": {
    "collapsed": true
   },
   "outputs": [],
   "source": [
    "pickle.dump(data, open(\"results_.pickle\", 'wb'))"
   ]
  },
  {
   "cell_type": "code",
   "execution_count": null,
   "metadata": {
    "collapsed": true
   },
   "outputs": [],
   "source": []
  }
 ],
 "metadata": {
  "kernelspec": {
   "display_name": "Python [Root]",
   "language": "python",
   "name": "Python [Root]"
  },
  "language_info": {
   "codemirror_mode": {
    "name": "ipython",
    "version": 2
   },
   "file_extension": ".py",
   "mimetype": "text/x-python",
   "name": "python",
   "nbconvert_exporter": "python",
   "pygments_lexer": "ipython2",
   "version": "2.7.12"
  }
 },
 "nbformat": 4,
 "nbformat_minor": 0
}
